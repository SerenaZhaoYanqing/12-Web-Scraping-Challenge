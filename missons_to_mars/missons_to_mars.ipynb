{
 "cells": [
  {
   "cell_type": "markdown",
   "id": "a3632f89",
   "metadata": {},
   "source": [
    "# NASA Mars News"
   ]
  },
  {
   "cell_type": "code",
   "execution_count": 1,
   "id": "1fc99143",
   "metadata": {},
   "outputs": [],
   "source": [
    "# Dependencies\n",
    "from splinter import Browser\n",
    "from bs4 import BeautifulSoup\n",
    "from webdriver_manager.chrome import ChromeDriverManager"
   ]
  },
  {
   "cell_type": "code",
   "execution_count": 2,
   "id": "c36f2989",
   "metadata": {},
   "outputs": [
    {
     "name": "stderr",
     "output_type": "stream",
     "text": [
      "[WDM] - \n",
      "\n",
      "[WDM] - ====== WebDriver manager ======\n",
      "[WDM] - Current google-chrome version is 95.0.4638\n",
      "[WDM] - Get LATEST driver version for 95.0.4638\n",
      "[WDM] - Driver [C:\\Users\\serena zhao\\.wdm\\drivers\\chromedriver\\win32\\95.0.4638.17\\chromedriver.exe] found in cache\n"
     ]
    }
   ],
   "source": [
    "# Setup splinter\n",
    "executable_path = {'executable_path': ChromeDriverManager().install()}\n",
    "browser = Browser('chrome', **executable_path, headless=False)"
   ]
  },
  {
   "cell_type": "code",
   "execution_count": 3,
   "id": "0307f33b",
   "metadata": {},
   "outputs": [],
   "source": [
    "# URL of page to be scraped\n",
    "url = 'https://redplanetscience.com/'\n",
    "browser.visit(url)"
   ]
  },
  {
   "cell_type": "code",
   "execution_count": 4,
   "id": "b3f3440e",
   "metadata": {},
   "outputs": [],
   "source": [
    "# HTML object\n",
    "html = browser.html\n",
    "# Parse HTML with Beautiful Soup\n",
    "soup = BeautifulSoup(html, 'html.parser')"
   ]
  },
  {
   "cell_type": "code",
   "execution_count": 5,
   "id": "3bfa9324",
   "metadata": {},
   "outputs": [
    {
     "name": "stdout",
     "output_type": "stream",
     "text": [
      "NASA Invites Students to Name Mars 2020 Rover\n"
     ]
    }
   ],
   "source": [
    "# as we are retrieving the latest one from web, instead of find all, we use find to get the first one\n",
    "first_title = soup.find(class_=\"content_title\")\n",
    "print(first_title.text)"
   ]
  },
  {
   "cell_type": "code",
   "execution_count": 6,
   "id": "0d48474c",
   "metadata": {},
   "outputs": [
    {
     "name": "stdout",
     "output_type": "stream",
     "text": [
      "Through Nov. 1, K-12 students in the U.S. are encouraged to enter an essay contest to name NASA's next Mars rover.\n"
     ]
    }
   ],
   "source": [
    "first_para = soup.find('div', class_=\"article_teaser_body\")\n",
    "print(first_para.text)"
   ]
  },
  {
   "cell_type": "code",
   "execution_count": null,
   "id": "d4d5526d",
   "metadata": {},
   "outputs": [],
   "source": [
    "browser.quit()"
   ]
  },
  {
   "cell_type": "markdown",
   "id": "65a85c57",
   "metadata": {},
   "source": [
    "# JPL Mars Space Images - Featured Image"
   ]
  },
  {
   "cell_type": "code",
   "execution_count": 7,
   "id": "edf4e145",
   "metadata": {},
   "outputs": [],
   "source": [
    "# Image URL of page to be scraped\n",
    "url_img=\"https://spaceimages-mars.com/\"\n",
    "browser.visit(url_img) "
   ]
  },
  {
   "cell_type": "code",
   "execution_count": 8,
   "id": "944c09ce",
   "metadata": {},
   "outputs": [],
   "source": [
    "# HTML object\n",
    "html_img = browser.html\n",
    "# Parse HTML with Beautiful Soup\n",
    "soup_img = BeautifulSoup(html_img, 'html.parser')"
   ]
  },
  {
   "cell_type": "code",
   "execution_count": 15,
   "id": "97dc4366",
   "metadata": {},
   "outputs": [
    {
     "name": "stdout",
     "output_type": "stream",
     "text": [
      "https://spaceimages-mars.com/image/featured/mars2.jpg\n"
     ]
    }
   ],
   "source": [
    "featured_image=soup_img.find('img', class_=\"headerimage fade-in\")\n",
    "featured_image_url=url_img+featured_image['src']\n",
    "print(featured_image_url)"
   ]
  },
  {
   "cell_type": "markdown",
   "id": "e0410a84",
   "metadata": {},
   "source": [
    "# Mars Facts"
   ]
  }
 ],
 "metadata": {
  "kernelspec": {
   "display_name": "Python 3",
   "language": "python",
   "name": "python3"
  },
  "language_info": {
   "codemirror_mode": {
    "name": "ipython",
    "version": 3
   },
   "file_extension": ".py",
   "mimetype": "text/x-python",
   "name": "python",
   "nbconvert_exporter": "python",
   "pygments_lexer": "ipython3",
   "version": "3.8.8"
  }
 },
 "nbformat": 4,
 "nbformat_minor": 5
}
